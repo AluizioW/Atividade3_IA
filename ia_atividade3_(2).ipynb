{
  "nbformat": 4,
  "nbformat_minor": 0,
  "metadata": {
    "colab": {
      "provenance": [],
      "toc_visible": true,
      "include_colab_link": true
    },
    "kernelspec": {
      "name": "python3",
      "display_name": "Python 3"
    },
    "language_info": {
      "name": "python"
    }
  },
  "cells": [
    {
      "cell_type": "markdown",
      "metadata": {
        "id": "view-in-github",
        "colab_type": "text"
      },
      "source": [
        "<a href=\"https://colab.research.google.com/github/AluizioW/Atividade3_IA/blob/main/ia_atividade3_(2).ipynb\" target=\"_parent\"><img src=\"https://colab.research.google.com/assets/colab-badge.svg\" alt=\"Open In Colab\"/></a>"
      ]
    },
    {
      "cell_type": "markdown",
      "source": [
        "# Classificação - BreastCancer Dataset\n"
      ],
      "metadata": {
        "id": "UGhMxDeQPk6k"
      }
    },
    {
      "cell_type": "code",
      "execution_count": null,
      "metadata": {
        "id": "OVkZ0FqUPZi3"
      },
      "outputs": [],
      "source": [
        "from sklearn.datasets import load_breast_cancer\n",
        "from sklearn.model_selection import train_test_split\n",
        "from sklearn.preprocessing import StandardScaler\n",
        "from sklearn.linear_model import LogisticRegression\n",
        "from sklearn.neighbors import KNeighborsClassifier\n",
        "from sklearn.metrics import accuracy_score, precision_score, recall_score, f1_score, roc_auc_score, roc_curve, confusion_matrix\n",
        "import matplotlib.pyplot as plt"
      ]
    },
    {
      "cell_type": "markdown",
      "source": [
        "### Coleta e Preparação dos Dados"
      ],
      "metadata": {
        "id": "d9avnHXB2tHa"
      }
    },
    {
      "cell_type": "code",
      "source": [
        "def avaliar_classificacao(y_test, y_preds, y_probs, modelo_nome):\n",
        "    print(f\"\\n{modelo_nome} - Avaliação:\")\n",
        "    print(\"Acurácia:\", accuracy_score(y_test, y_preds))\n",
        "    print(\"Precisão:\", precision_score(y_test, y_preds))\n",
        "    print(\"Recall:\", recall_score(y_test, y_preds))\n",
        "    print(\"F1-score:\", f1_score(y_test, y_preds))\n",
        "    print(\"AUC-ROC:\", roc_auc_score(y_test, y_probs))\n",
        "\n",
        "    # Matriz de Confusão\n",
        "    print(\"\\nMatriz de Confusão:\")\n",
        "    print(confusion_matrix(y_test, y_preds))\n",
        "\n",
        "    # Curva ROC\n",
        "    fpr, tpr, _ = roc_curve(y_test, y_probs)\n",
        "    plt.plot(fpr, tpr, label=f\"{modelo_nome} (AUC = {roc_auc_score(y_test, y_probs):.2f})\")\n",
        "    plt.plot([0, 1], [0, 1], linestyle=\"--\", color=\"gray\")\n",
        "    plt.xlabel(\"Falso Positivo (FPR)\")\n",
        "    plt.ylabel(\"Verdadeiro Positivo (TPR)\")\n",
        "    plt.title(\"Curva ROC\")\n",
        "    plt.legend()\n",
        "    plt.show()"
      ],
      "metadata": {
        "id": "-FdxHnSGPrf8"
      },
      "execution_count": null,
      "outputs": []
    },
    {
      "cell_type": "markdown",
      "source": [
        "### Pré-processamento dos Dados"
      ],
      "metadata": {
        "id": "di4s-1Sz23z_"
      }
    },
    {
      "cell_type": "code",
      "source": [
        "data = load_breast_cancer()\n",
        "X, y = data.data, data.target"
      ],
      "metadata": {
        "id": "wNmQp2oYP5Eg"
      },
      "execution_count": null,
      "outputs": []
    },
    {
      "cell_type": "code",
      "source": [
        "X_train, X_test, y_train, y_test = train_test_split(X, y, test_size=0.2, random_state=42, stratify=y)\n"
      ],
      "metadata": {
        "id": "neVHAU3lP5n-"
      },
      "execution_count": null,
      "outputs": []
    },
    {
      "cell_type": "code",
      "source": [
        "scaler = StandardScaler()\n",
        "X_train_scaled = scaler.fit_transform(X_train)\n",
        "X_test_scaled = scaler.transform(X_test)"
      ],
      "metadata": {
        "id": "z482Gv1yQDCS"
      },
      "execution_count": null,
      "outputs": []
    },
    {
      "cell_type": "markdown",
      "source": [
        "## Regressão Logística"
      ],
      "metadata": {
        "id": "hzmQrXquR159"
      }
    },
    {
      "cell_type": "markdown",
      "source": [
        "### Treinamento e Avaliação do Modelo"
      ],
      "metadata": {
        "id": "0shgB7dz3Goj"
      }
    },
    {
      "cell_type": "code",
      "source": [
        "log_model = LogisticRegression(max_iter=1000) # pode alterar o max_iter\n",
        "log_model.fit(X_train_scaled, y_train)\n",
        "log_preds = log_model.predict(X_test_scaled)\n",
        "log_probs = log_model.predict_proba(X_test_scaled)[:, 1]"
      ],
      "metadata": {
        "id": "dtuGqKSmQDbX"
      },
      "execution_count": null,
      "outputs": []
    },
    {
      "cell_type": "code",
      "source": [
        "avaliar_classificacao(y_test, log_preds, log_probs, \"Regressão Logística\")"
      ],
      "metadata": {
        "colab": {
          "base_uri": "https://localhost:8080/",
          "height": 663
        },
        "id": "A9ibhB1TQFje",
        "outputId": "b3a63d87-c580-4cda-ac8b-a371b5da08af"
      },
      "execution_count": null,
      "outputs": [
        {
          "output_type": "stream",
          "name": "stdout",
          "text": [
            "\n",
            "Regressão Logística - Avaliação:\n",
            "Acurácia: 0.9824561403508771\n",
            "Precisão: 0.9861111111111112\n",
            "Recall: 0.9861111111111112\n",
            "F1-score: 0.9861111111111112\n",
            "AUC-ROC: 0.9953703703703703\n",
            "\n",
            "Matriz de Confusão:\n",
            "[[41  1]\n",
            " [ 1 71]]\n"
          ]
        },
        {
          "output_type": "display_data",
          "data": {
            "text/plain": [
              "<Figure size 640x480 with 1 Axes>"
            ],
            "image/png": "[encoded data removed]"
          },
          "metadata": {}
        }
      ]
    },
    {
      "cell_type": "code",
      "source": [],
      "metadata": {
        "id": "xNagRooUQKX5"
      },
      "execution_count": null,
      "outputs": []
    },
    {
      "cell_type": "markdown",
      "source": [
        "## KNN"
      ],
      "metadata": {
        "id": "_-BfmzPdR55y"
      }
    },
    {
      "cell_type": "markdown",
      "source": [
        "### Treinamento e Avaliaçõ do Modelo"
      ],
      "metadata": {
        "id": "6fJy_Xp_3Q2A"
      }
    },
    {
      "cell_type": "code",
      "source": [
        "# metric='euclidean' or metric='minkowski'\n",
        "# weights='uniform' or weights='distance'\n",
        "knn_model = KNeighborsClassifier(n_neighbors=5, metric='minkowski', weights='uniform') # pode alterar os 3\n",
        "knn_model.fit(X_train_scaled, y_train)\n",
        "knn_preds = knn_model.predict(X_test_scaled)\n",
        "knn_probs = knn_model.predict_proba(X_test_scaled)[:, 1]"
      ],
      "metadata": {
        "id": "7ThqMtOxSB6v"
      },
      "execution_count": null,
      "outputs": []
    },
    {
      "cell_type": "code",
      "source": [
        "avaliar_classificacao(y_test, knn_preds, knn_probs, \"KNN Classifier\")"
      ],
      "metadata": {
        "colab": {
          "base_uri": "https://localhost:8080/",
          "height": 663
        },
        "id": "be7J3HCDSF-B",
        "outputId": "453d2b4d-28e8-4095-e414-c2831c56555d"
      },
      "execution_count": null,
      "outputs": [
        {
          "output_type": "stream",
          "name": "stdout",
          "text": [
            "\n",
            "KNN Classifier - Avaliação:\n",
            "Acurácia: 0.956140350877193\n",
            "Precisão: 0.958904109589041\n",
            "Recall: 0.9722222222222222\n",
            "F1-score: 0.9655172413793104\n",
            "AUC-ROC: 0.9788359788359788\n",
            "\n",
            "Matriz de Confusão:\n",
            "[[39  3]\n",
            " [ 2 70]]\n"
          ]
        },
        {
          "output_type": "display_data",
          "data": {
            "text/plain": [
              "<Figure size 640x480 with 1 Axes>"
            ],
            "image/png": "[encoded data removed]"
          },
          "metadata": {}
        }
      ]
    },
    {
      "cell_type": "code",
      "source": [],
      "metadata": {
        "id": "7cXbLP63SJnp"
      },
      "execution_count": null,
      "outputs": []
    },
    {
      "cell_type": "markdown",
      "source": [
        "# Regressão - Califórnia Housing Dataset\n"
      ],
      "metadata": {
        "id": "293X4F0hSZDf"
      }
    },
    {
      "cell_type": "code",
      "source": [
        "from sklearn.datasets import fetch_california_housing\n",
        "from sklearn.model_selection import train_test_split\n",
        "from sklearn.preprocessing import StandardScaler\n",
        "from sklearn.linear_model import LinearRegression\n",
        "from sklearn.neighbors import KNeighborsRegressor\n",
        "from sklearn.metrics import mean_absolute_error, mean_squared_error, r2_score\n",
        "import numpy as np"
      ],
      "metadata": {
        "id": "ffUko1vWSggw"
      },
      "execution_count": null,
      "outputs": []
    },
    {
      "cell_type": "markdown",
      "source": [
        "### Coleta e Preparação dos Dados"
      ],
      "metadata": {
        "id": "7W2NKCRa3cw1"
      }
    },
    {
      "cell_type": "code",
      "source": [
        "data = fetch_california_housing()\n",
        "X, y = data.data, data.target"
      ],
      "metadata": {
        "id": "Fz9yytrTSksB"
      },
      "execution_count": null,
      "outputs": []
    },
    {
      "cell_type": "code",
      "source": [
        "def avaliar_regressao(y_test, y_preds, modelo_nome):\n",
        "    print(f\"\\n{modelo_nome} - Avaliação:\")\n",
        "    print(\"Erro Médio Absoluto (MAE):\", mean_absolute_error(y_test, y_preds))\n",
        "    print(\"Erro Quadrático Médio (MSE):\", mean_squared_error(y_test, y_preds))\n",
        "    print(\"Raiz do Erro Quadrático Médio (RMSE):\", np.sqrt(mean_squared_error(y_test, y_preds)))\n",
        "    print(\"Coeficiente de Determinação (R²):\", r2_score(y_test, y_preds))\n"
      ],
      "metadata": {
        "id": "p3HehgzVSm1U"
      },
      "execution_count": null,
      "outputs": []
    },
    {
      "cell_type": "markdown",
      "source": [
        "### Pré-processamento dos Dados"
      ],
      "metadata": {
        "id": "p_xPXkpS3j3O"
      }
    },
    {
      "cell_type": "code",
      "source": [
        "X_train, X_test, y_train, y_test = train_test_split(X, y, test_size=0.2, random_state=42)\n"
      ],
      "metadata": {
        "id": "XYdeGfhHSp8f"
      },
      "execution_count": null,
      "outputs": []
    },
    {
      "cell_type": "code",
      "source": [
        "scaler = StandardScaler()\n",
        "X_train_scaled = scaler.fit_transform(X_train)\n",
        "X_test_scaled = scaler.transform(X_test)"
      ],
      "metadata": {
        "id": "MHyxTg4xSssw"
      },
      "execution_count": null,
      "outputs": []
    },
    {
      "cell_type": "markdown",
      "source": [
        "## Regressão Linear"
      ],
      "metadata": {
        "id": "lBWU1Ay3V5C4"
      }
    },
    {
      "cell_type": "markdown",
      "source": [
        "### Treinamento e Avaliação do Modelo"
      ],
      "metadata": {
        "id": "bYIZwDNM3xWR"
      }
    },
    {
      "cell_type": "code",
      "source": [
        "lr_model = LinearRegression(fit_intercept=True, copy_X=True, n_jobs=1) # pode alterar o fit\n",
        "lr_model.fit(X_train_scaled, y_train)\n",
        "lr_preds = lr_model.predict(X_test_scaled)"
      ],
      "metadata": {
        "id": "A43KpGU2Tm5m"
      },
      "execution_count": null,
      "outputs": []
    },
    {
      "cell_type": "code",
      "source": [
        "avaliar_regressao(y_test, lr_preds, \"Regressão Linear\")"
      ],
      "metadata": {
        "colab": {
          "base_uri": "https://localhost:8080/"
        },
        "id": "6xRSjD6YTwEb",
        "outputId": "50e94f93-d9d3-48df-c51c-8627b90ac5b4"
      },
      "execution_count": null,
      "outputs": [
        {
          "output_type": "stream",
          "name": "stdout",
          "text": [
            "\n",
            "Regressão Linear - Avaliação:\n",
            "Erro Médio Absoluto (MAE): 0.5332001304956566\n",
            "Erro Quadrático Médio (MSE): 0.5558915986952442\n",
            "Raiz do Erro Quadrático Médio (RMSE): 0.7455813830127763\n",
            "Coeficiente de Determinação (R²): 0.575787706032451\n"
          ]
        }
      ]
    },
    {
      "cell_type": "markdown",
      "source": [
        "## KNN"
      ],
      "metadata": {
        "id": "rl_OY4u8V8Kp"
      }
    },
    {
      "cell_type": "markdown",
      "source": [
        "### Treinamento e Avaliação do Modelo"
      ],
      "metadata": {
        "id": "VQm_kzIaV8GT"
      }
    },
    {
      "cell_type": "code",
      "source": [
        "# metric='euclidean' or metric='minkowski'\n",
        "# weights='uniform' or weights='distance'\n",
        "knn_regressor_model = KNeighborsRegressor(n_neighbors=5, metric='minkowski', weights='uniform') # pode alterar os 3\n",
        "knn_regressor_model.fit(X_train_scaled, y_train)\n",
        "knn_regressor_preds = knn_regressor_model.predict(X_test_scaled)"
      ],
      "metadata": {
        "id": "Zk4eSPTkTzXa"
      },
      "execution_count": null,
      "outputs": []
    },
    {
      "cell_type": "code",
      "source": [
        "avaliar_regressao(y_test, knn_regressor_preds, \"KNN Regressor\")"
      ],
      "metadata": {
        "colab": {
          "base_uri": "https://localhost:8080/"
        },
        "id": "LNd_BbSZT2MH",
        "outputId": "ec5e23b6-a913-46c9-8046-be61f56da5fa"
      },
      "execution_count": null,
      "outputs": [
        {
          "output_type": "stream",
          "name": "stdout",
          "text": [
            "\n",
            "KNN Regressor - Avaliação:\n",
            "Erro Médio Absoluto (MAE): 0.4412041898910173\n",
            "Erro Quadrático Médio (MSE): 0.4236678896368499\n",
            "Raiz do Erro Quadrático Médio (RMSE): 0.650897756669087\n",
            "Coeficiente de Determinação (R²): 0.6766903335738861\n"
          ]
        }
      ]
    },
    {
      "cell_type": "code",
      "source": [],
      "metadata": {
        "id": "77av8zllT49U"
      },
      "execution_count": null,
      "outputs": []
    }
  ]
}